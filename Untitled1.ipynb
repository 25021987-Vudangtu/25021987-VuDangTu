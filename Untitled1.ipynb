{
  "nbformat": 4,
  "nbformat_minor": 0,
  "metadata": {
    "colab": {
      "provenance": [],
      "authorship_tag": "ABX9TyM/YT/xq1xv1URDaep0e/8k"
    },
    "kernelspec": {
      "name": "python3",
      "display_name": "Python 3"
    },
    "language_info": {
      "name": "python"
    }
  },
  "cells": [
    {
      "cell_type": "markdown",
      "source": [
        "#W2A1"
      ],
      "metadata": {
        "id": "7QDZOhy_Pqai"
      }
    },
    {
      "cell_type": "code",
      "execution_count": null,
      "metadata": {
        "id": "DrEoIYN4Oipe"
      },
      "outputs": [],
      "source": [
        "print(\"Hello World!\")"
      ]
    },
    {
      "cell_type": "markdown",
      "source": [
        "#W2A2\n"
      ],
      "metadata": {
        "id": "lqNv6Za0V9v3"
      }
    },
    {
      "cell_type": "code",
      "source": [
        "a=input(\"Ho va ten:\")\n",
        "print(\"Xin Chao \" + a + \"!\")"
      ],
      "metadata": {
        "id": "6PmCSrI0WM1C"
      },
      "execution_count": null,
      "outputs": []
    },
    {
      "cell_type": "markdown",
      "source": [],
      "metadata": {
        "id": "SLfbkLlvWSsa"
      }
    }
  ]
}