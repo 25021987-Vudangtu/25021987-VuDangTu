{
  "nbformat": 4,
  "nbformat_minor": 0,
  "metadata": {
    "colab": {
      "provenance": [],
      "authorship_tag": "ABX9TyNPjZld5V9QlOgcI7CqSN15",
      "include_colab_link": true
    },
    "kernelspec": {
      "name": "python3",
      "display_name": "Python 3"
    },
    "language_info": {
      "name": "python"
    }
  },
  "cells": [
    {
      "cell_type": "markdown",
      "metadata": {
        "id": "view-in-github",
        "colab_type": "text"
      },
      "source": [
        "<a href=\"https://colab.research.google.com/github/25021987-Vudangtu/25021987-VuDangTu/blob/master/Week2.ipynb\" target=\"_parent\"><img src=\"https://colab.research.google.com/assets/colab-badge.svg\" alt=\"Open In Colab\"/></a>"
      ]
    },
    {
      "cell_type": "markdown",
      "source": [
        "btvn1"
      ],
      "metadata": {
        "id": "0V61-C54XU28"
      }
    },
    {
      "cell_type": "code",
      "execution_count": null,
      "metadata": {
        "id": "pBqUzjLTWjun"
      },
      "outputs": [],
      "source": [
        "n=int(input(\"nhap vao so nguyen n: \"))\n",
        "a=2*n\n",
        "print(a)"
      ]
    },
    {
      "cell_type": "markdown",
      "source": [],
      "metadata": {
        "id": "Hr9IEVW-GXUq"
      }
    },
    {
      "cell_type": "markdown",
      "source": [
        "#btvn2"
      ],
      "metadata": {
        "id": "-Y2vjFkCGcYG"
      }
    },
    {
      "cell_type": "code",
      "source": [
        "a=float(input(\"nhap chieu rong : \"))\n",
        "b=float(input(\"nhap chieu dai : \"))\n",
        "S=a*b-3.14*a**2*0.3\n",
        "print(f\"dien tich trong cay la {S:.2f}\")"
      ],
      "metadata": {
        "id": "gomiOZigGoLF"
      },
      "execution_count": null,
      "outputs": []
    },
    {
      "cell_type": "markdown",
      "source": [
        "#btvn3"
      ],
      "metadata": {
        "id": "1irEf5AFGg4_"
      }
    },
    {
      "cell_type": "code",
      "source": [
        "kytu=input(\"nhap ki tu: \")\n",
        "if len(kytu) == 1 and \"a\" <= kytu <= \"z\" :\n",
        "     machuhoa= ord(kytu)-32\n",
        "     chuhoa=chr(machuhoa)\n",
        "     print(f\"ky tu in hoa tuong ung la {chuhoa}\")\n",
        "elif len(kytu) == 1 and \"A\" <= kytu <= \"Z\" :\n",
        "     machuthuong= ord(kytu)+32\n",
        "     chuthuong=chr(machuthuong)\n",
        "     print(f\"ky tu in hoa tuong ung la {chuthuong}\")\n",
        "else :\n",
        "     print(\"hay nhap dung ky tu\")\n",
        ""
      ],
      "metadata": {
        "id": "P9KhbDv1Gop-"
      },
      "execution_count": null,
      "outputs": []
    },
    {
      "cell_type": "markdown",
      "source": [
        "#btvn4"
      ],
      "metadata": {
        "id": "5vLQDxsAGh5C"
      }
    },
    {
      "cell_type": "code",
      "source": [
        "kytu=input(\"nhap ky tu: \")\n",
        "if  len(kytu)==1 and \"a\" <= kytu <= \"z\" or \"A\" <= kytu <= \"Z\":\n",
        "     print(f\" {kytu} la kytu alphabet\")\n",
        "else :\n",
        "       print(f\"{kytu} khong phai ky tu alphabet\")\n"
      ],
      "metadata": {
        "id": "iU606oLHGpm1"
      },
      "execution_count": null,
      "outputs": []
    },
    {
      "cell_type": "markdown",
      "source": [
        "#btvn5"
      ],
      "metadata": {
        "id": "_cPO747ZGi6r"
      }
    },
    {
      "cell_type": "code",
      "source": [
        "kytu=input(\"nhap vao ky tu: \")\n",
        "if len(kytu)==1 and \"B\" <= kytu <= \"Z\":\n",
        "   makytu=ord(kytu)+31\n",
        "   kytumoi=chr(makytu)\n",
        "   print(f\"ky tu tuong ung la {kytumoi}\")\n",
        "elif kytu == \"A\":\n",
        "        print(\"khong co ky tu tuong ung\")\n",
        "else :\n",
        "      print(\"nhap lai dung ky tu\")\n",
        ""
      ],
      "metadata": {
        "id": "MpsIggLdGqBV"
      },
      "execution_count": null,
      "outputs": []
    },
    {
      "cell_type": "markdown",
      "source": [
        "#btvn6"
      ],
      "metadata": {
        "id": "ZFO7bDKgGj3O"
      }
    },
    {
      "cell_type": "code",
      "source": [
        "a=float(input(\"nhap so a \"))\n",
        "b=float(input(\"nhap so b \"))\n",
        "c=float(input(\"nhap so c \"))\n",
        "if a+b>c and a+c>b and b+c>a :\n",
        "    P= (a+b+c)/2\n",
        "    S= ((P-a)*(P-b)*(P-c)*P)**(1/2)\n",
        "    print(f\"dien tich tam giac la {S}\")\n",
        "else :\n",
        "    print(\"day khong phai 3 canh cua 1 tam giac\")\n",
        ""
      ],
      "metadata": {
        "id": "QsO8df9aGqZP"
      },
      "execution_count": null,
      "outputs": []
    },
    {
      "cell_type": "markdown",
      "source": [
        "#btvn7"
      ],
      "metadata": {
        "id": "2bRcWM24GlQ8"
      }
    },
    {
      "cell_type": "code",
      "source": [
        "chuoi=input(\"nhap chuoi it nhat 20 ky tu \")\n",
        "if len(chuoi)>=20 :\n",
        "    print(f\"ky tu thu 5 la {chuoi[4]}\")\n",
        "    print(f\"ky tu thu 9 la {chuoi[8]}\")\n",
        "else :\n",
        "    print(\"so luong ky tu chua du 20\")"
      ],
      "metadata": {
        "id": "9rbeJwPeGq7G"
      },
      "execution_count": null,
      "outputs": []
    },
    {
      "cell_type": "markdown",
      "source": [
        "#btvn8"
      ],
      "metadata": {
        "id": "1-e9Q6e-GmN-"
      }
    },
    {
      "cell_type": "code",
      "source": [
        "tenchuho=input(\" ten chu ho \")\n",
        "sodienthangtruoc=float(input(\"so dien thang truoc\"))\n",
        "sodienthangnay=float(input(\"so dien thang nay \"))\n",
        "a=sodienthangnay-sodienthangtruoc\n",
        "if 0<= a <= 50:\n",
        "   T1=a*1984\n",
        "   print(f\"ho va ten: {tenchuho}\")\n",
        "   print(f\"so tien phai tra la {T1}\")\n",
        "elif 50<a<= 100:\n",
        "   T2=50*1984+(a-50)*2050\n",
        "   print(f\"ho va ten: {tenchuho}\")\n",
        "   print(f\"so tien phai tra la {T2}\")\n",
        "elif 100<a<= 200:\n",
        "   T3=50*1984+50*2050+(a-100)*2380\n",
        "   print(f\"ho va ten: {tenchuho}\")\n",
        "   print(f\"so tien phai tra la {T3}\")\n",
        "elif 200<a<= 300:\n",
        "   T4=50*1984+(50)*2050+100*2380+(a-200)*2998\n",
        "   print(f\"ho va ten: {tenchuho}\")\n",
        "   print(f\"so tien phai tra la {T4}\")\n",
        "elif 300<a<= 400:\n",
        "   T5=50*1984+(50)*2050+100*2380+100*2998+(a-300)*3350\n",
        "   print(f\"ho va ten: {tenchuho}\")\n",
        "   print(f\"so tien phai tra la {T5}\")\n",
        "elif 300<a<= 400:\n",
        "   T6=50*1984+(50)*2050+100*2380+100*2998+(a-300)*3350\n",
        "   print(f\"ho va ten: {tenchuho}\")\n",
        "   print(f\"so tien phai tra la {T6}\")\n",
        "elif a>400:\n",
        "   T7=50*1984+(50)*2050+100*2380+100*2998+100*3350+(a-400)*3460\n",
        "   print(f\"ho va ten: {tenchuho}\")\n",
        "   print(f\"so tien phai tra la {T7}\")\n",
        "else:\n",
        "   print(\"hay nhap lai so kWh dien\")"
      ],
      "metadata": {
        "id": "RA9j_UzMGrlM"
      },
      "execution_count": null,
      "outputs": []
    },
    {
      "cell_type": "markdown",
      "source": [
        "#btkhac1"
      ],
      "metadata": {
        "id": "8A8g0nlAHJGp"
      }
    },
    {
      "cell_type": "code",
      "source": [
        "a=int(input(\"nhap 1 so nguyen : \"))\n",
        "if a%2==0 :\n",
        "   print(\" a la 1 so chan\")\n",
        "else :\n",
        "     print(\" a la 1 so le\")\n"
      ],
      "metadata": {
        "id": "7qJhTNUcHiSm"
      },
      "execution_count": null,
      "outputs": []
    },
    {
      "cell_type": "markdown",
      "source": [
        "#btkhac2"
      ],
      "metadata": {
        "id": "FcsYDrH9HVG5"
      }
    },
    {
      "cell_type": "code",
      "source": [
        "a=int(input(\"nhap vao 1 so nguyen : \"))\n",
        "if a%5==0:\n",
        "    if a%10==0:\n",
        "        print(\"so nhap vao khong tan cung bang 5\")\n",
        "    else :\n",
        "        print(\"so nhap vao tan cung bang 5\")\n",
        "else:\n",
        "    print(\"so nhap vao khong tan cung bang 5\")"
      ],
      "metadata": {
        "id": "Pjpa6S2PHisZ"
      },
      "execution_count": null,
      "outputs": []
    },
    {
      "cell_type": "markdown",
      "source": [
        "#btkhac3"
      ],
      "metadata": {
        "id": "Cav8zr7FHWUd"
      }
    },
    {
      "cell_type": "code",
      "source": [
        "a=int(input(\"nhap vao 1 so nguyen : \"))\n",
        "if a%15==0 :\n",
        "    print(\"True\")\n",
        "else :\n",
        "    print(\"False\")"
      ],
      "metadata": {
        "id": "u7YihcItHjI5"
      },
      "execution_count": null,
      "outputs": []
    },
    {
      "cell_type": "markdown",
      "source": [
        "#btkhac4"
      ],
      "metadata": {
        "id": "v5jVUy1iH4li"
      }
    },
    {
      "cell_type": "code",
      "source": [
        "a=int(input(\"nhap vao so tuoi : \"))\n",
        "if a>=18 :\n",
        "    print(\" ban du tuoi bau cu\")\n",
        "elif a<0:\n",
        "    print(\"so tuoi khong the am\")\n",
        "else :\n",
        "    print(\" ban chua du tuoi bau cu\")"
      ],
      "metadata": {
        "id": "LelmxAzaH7G1"
      },
      "execution_count": null,
      "outputs": []
    },
    {
      "cell_type": "markdown",
      "source": [
        "#btkhac5"
      ],
      "metadata": {
        "id": "sgLdJNx5HXbl"
      }
    },
    {
      "cell_type": "code",
      "source": [
        "a=float(input(\"nhap vao so a\"))\n",
        "b=float(input(\"nhap vao so b\"))\n",
        "if a>b :\n",
        "    print(f\"so lon hon la {a}\")\n",
        "elif b>a :\n",
        "    print(f\"so lon hon la {b}\")\n",
        "else :\n",
        "    print(\"2 so da nhap bang nhau\")"
      ],
      "metadata": {
        "id": "zt32P4uHHjhx"
      },
      "execution_count": null,
      "outputs": []
    },
    {
      "cell_type": "markdown",
      "source": [
        "#btkhac6"
      ],
      "metadata": {
        "id": "T7kxE-mBHYbz"
      }
    },
    {
      "cell_type": "code",
      "source": [
        "a=float(input(\"nhap vao so a\"))\n",
        "b=float(input(\"nhap vao so b\"))\n",
        "if a>b :\n",
        "    print(f\"so lon hon la {a}\")\n",
        "elif b>a :\n",
        "    print(f\"so lon hon la {b}\")\n",
        "else :\n",
        "    print(\"2 so da nhap bang nhau\")"
      ],
      "metadata": {
        "id": "S0UFlXQwHj8f"
      },
      "execution_count": null,
      "outputs": []
    },
    {
      "cell_type": "markdown",
      "source": [
        "#btkhac7"
      ],
      "metadata": {
        "id": "fhZ94hjXHZsh"
      }
    },
    {
      "cell_type": "code",
      "source": [
        "diem = float(input(\"Nhập điểm (0-10): \"))\n",
        "if diem < 0 or diem > 10:\n",
        "    print(\"Điểm không hợp lệ! Vui lòng nhập trong khoảng 0 đến 10.\")\n",
        "else:\n",
        "    if diem >= 8:\n",
        "        print(\"Học lực: Giỏi\")\n",
        "    elif diem >= 6.5:\n",
        "        print(\"Học lực: Khá\")\n",
        "    elif diem >= 5:\n",
        "        print(\"Học lực: Trung bình\")\n",
        "    else:\n",
        "        print(\"Học lực: Yếu\")\n"
      ],
      "metadata": {
        "id": "3Q7q4cXRHlQw"
      },
      "execution_count": null,
      "outputs": []
    },
    {
      "cell_type": "markdown",
      "source": [
        "#btkhac8"
      ],
      "metadata": {
        "id": "2BxY8QYxHa6N"
      }
    },
    {
      "cell_type": "code",
      "source": [
        "a=int(input(\"nhap vao so nam: \"))\n",
        "if a%400==0 or (a%4==0 and a%100 !=0):\n",
        "    print(\"day la nam nhuan\")\n",
        "else :\n",
        "    print(\"day khong phai nam nhuan\")"
      ],
      "metadata": {
        "id": "Cnw9d7oGHlkz"
      },
      "execution_count": null,
      "outputs": []
    },
    {
      "cell_type": "markdown",
      "source": [
        "#btkhac9"
      ],
      "metadata": {
        "id": "HrK_P2mbHdC_"
      }
    },
    {
      "cell_type": "code",
      "source": [],
      "metadata": {
        "id": "GiWdG0kPHmBB"
      },
      "execution_count": null,
      "outputs": []
    },
    {
      "cell_type": "markdown",
      "source": [
        "#btkhac10"
      ],
      "metadata": {
        "id": "L5LwPivAHfIx"
      }
    },
    {
      "cell_type": "code",
      "source": [
        "a=int(input(\"nhap vao so diem  \"))\n",
        "if a>=4 and a<10:\n",
        "    print(\"ban da qua mon\")\n",
        "elif a<4 and a>=0 :\n",
        "    print(\"ban da truot mon\")\n",
        "else:\n",
        "    print(\"so diem nhap khong hop le\")"
      ],
      "metadata": {
        "id": "r5GMGbINHmdw"
      },
      "execution_count": null,
      "outputs": []
    },
    {
      "cell_type": "markdown",
      "source": [
        "#btkhac11"
      ],
      "metadata": {
        "id": "_1geT6GdHgap"
      }
    },
    {
      "cell_type": "code",
      "source": [
        "a=int(input(\"nhap vao nam sinh\"))\n",
        "tuoi=2025-a\n",
        "if tuoi>=18:\n",
        "    print(f\"ban {tuoi} tuoi\")\n",
        "    print(\"ban da du 18 tuoi\")\n",
        "elif 0<= tuoi<18:\n",
        "    print(f\"tuoi cua ban la {tuoi}\")\n",
        "    print(\"ban chua du 18 tuoi\")\n",
        "else :\n",
        "    print(\"nam sinh nhap vao khong hop le\")"
      ],
      "metadata": {
        "id": "4X_n_0blHm8S"
      },
      "execution_count": null,
      "outputs": []
    },
    {
      "cell_type": "markdown",
      "source": [],
      "metadata": {
        "id": "8q2AbqCcHMho"
      }
    },
    {
      "cell_type": "markdown",
      "source": [],
      "metadata": {
        "id": "A-q_tie1XkDW"
      }
    }
  ]
}