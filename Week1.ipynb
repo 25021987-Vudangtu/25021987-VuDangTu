{
  "nbformat": 4,
  "nbformat_minor": 0,
  "metadata": {
    "colab": {
      "provenance": [],
      "authorship_tag": "ABX9TyMUGXGDu8s8t6m/VPeS/8Ju"
    },
    "kernelspec": {
      "name": "python3",
      "display_name": "Python 3"
    },
    "language_info": {
      "name": "python"
    }
  },
  "cells": [
    {
      "cell_type": "markdown",
      "source": [
        "#W2A1"
      ],
      "metadata": {
        "id": "7QDZOhy_Pqai"
      }
    },
    {
      "cell_type": "code",
      "execution_count": null,
      "metadata": {
        "id": "DrEoIYN4Oipe"
      },
      "outputs": [],
      "source": [
        "print(\"Hello World!\")"
      ]
    },
    {
      "cell_type": "markdown",
      "source": [
        "#W2A2\n"
      ],
      "metadata": {
        "id": "lqNv6Za0V9v3"
      }
    },
    {
      "cell_type": "code",
      "source": [
        "a=input(\"Ho va ten:\")\n",
        "print(\"Xin Chao \" + a + \"!\")"
      ],
      "metadata": {
        "id": "6PmCSrI0WM1C"
      },
      "execution_count": null,
      "outputs": []
    },
    {
      "cell_type": "markdown",
      "source": [
        "#W2A3"
      ],
      "metadata": {
        "id": "dy8H5XIlDOrf"
      }
    },
    {
      "cell_type": "code",
      "source": [
        "# Nhập vào 2 số nguyên a,b\n",
        "a = int(input(\"a=\"))\n",
        "b = int(input(\"b=\"))\n",
        "# tính toán với a và b\n",
        "tong = a + b\n",
        "hieu = a - b\n",
        "tich = a*b\n",
        "phan_nguyen = a//b\n",
        "phan_du = a%b\n",
        "# in ra man hinh cac phep tinh theo dinh dang\n",
        "print(f\" {a} + {b} = {tong}\")\n",
        "print(f\" {a} - {b} = {hieu} \")\n",
        "print(f\" {a} * {b} = {tich}\")\n",
        "print(f\" {a} // {b} = {phan_nguyen}\")\n",
        "print(f\" {a} % {b} = {phan_du}\")\n"
      ],
      "metadata": {
        "id": "r-Pr4J-zDabc"
      },
      "execution_count": null,
      "outputs": []
    },
    {
      "cell_type": "markdown",
      "source": [
        "#W2A4\n"
      ],
      "metadata": {
        "id": "rb7nScQADVTM"
      }
    },
    {
      "cell_type": "code",
      "source": [
        "scores =input().split()\n",
        "a1, b1, c1, a2, b2, a3 =map(float,scores)\n",
        "TB= ((a1+b1+c1)+(a2+b2)*2 + (a3*3))/10\n",
        "print(f\"{TB:.1f}\")"
      ],
      "metadata": {
        "id": "h6M-9Ou5D1un"
      },
      "execution_count": null,
      "outputs": []
    },
    {
      "cell_type": "markdown",
      "source": [
        "#W2A5\n"
      ],
      "metadata": {
        "id": "1yYy1JdVDbQK"
      }
    },
    {
      "cell_type": "code",
      "source": [
        "so=input().split()\n",
        "a, b =map(int,so)\n",
        "A= a**b\n",
        "print(A)\n",
        "\n"
      ],
      "metadata": {
        "id": "rX4RqhqDD2vz"
      },
      "execution_count": null,
      "outputs": []
    },
    {
      "cell_type": "markdown",
      "source": [
        "#W2A6"
      ],
      "metadata": {
        "id": "q1bDTUJ4DdZi"
      }
    },
    {
      "cell_type": "code",
      "source": [
        "# Nhập 1 ký tự chữ cái thường\n",
        "char = input(\"Nhập vào một ký tự chữ cái thường (a-z): \")\n",
        "\n",
        "# Kiểm tra xem có phải là chữ cái thường không\n",
        "if len(char) == 1 and 'a' <= char <= 'z':\n",
        "    # In ra mã Unicode của ký tự\n",
        "    unicode_code = ord(char)\n",
        "    print(f\"Mã Unicode của '{char}' là: {unicode_code}\")\n",
        "\n",
        "    upper_char_code = unicode_code - 32\n",
        "    upper_char = chr(upper_char_code)\n",
        "\n",
        "\n",
        "    # In kết quả\n",
        "    print(f\"Ký tự hoa tương ứng là: {upper_char}\")\n",
        "    print(f\"Mã Unicode của '{upper_char}' là: {upper_char}\")\n",
        "\n",
        "else:\n",
        "    print(\"Vui lòng nhập đúng một ký tự chữ cái thường từ a đến z!\")\n"
      ],
      "metadata": {
        "id": "iM77eO52D3Pf"
      },
      "execution_count": null,
      "outputs": []
    },
    {
      "cell_type": "markdown",
      "source": [
        "#W2A7"
      ],
      "metadata": {
        "id": "yPeBnt2PDeii"
      }
    },
    {
      "cell_type": "code",
      "source": [
        "A=((13**2)*3)+5\n",
        "B=13**2*3+5\n",
        "print(A)\n",
        "print(B)\n"
      ],
      "metadata": {
        "id": "XDYOvU3cD33O"
      },
      "execution_count": null,
      "outputs": []
    },
    {
      "cell_type": "markdown",
      "source": [
        "#W2A8"
      ],
      "metadata": {
        "id": "8z2RLQAzDfsW"
      }
    },
    {
      "cell_type": "code",
      "source": [
        "C=int(input(\"nhiet do theo thang do C\"))\n",
        "F=1.8*C+32\n",
        "print(f\"nhiet do theo thang do F la :{F:.2f}\")"
      ],
      "metadata": {
        "id": "kiTUs8PgD4lp"
      },
      "execution_count": null,
      "outputs": []
    },
    {
      "cell_type": "markdown",
      "source": [
        "#W2A9"
      ],
      "metadata": {
        "id": "ehT2GtZdDg0Z"
      }
    },
    {
      "cell_type": "code",
      "source": [
        "x=float(input(\"so tien goc\"))\n",
        "T= 1.4*x+10\n",
        "print(f\"Tong so tien phai tra la {T:.2f}\")\n"
      ],
      "metadata": {
        "id": "viqm9JB2D5Iq"
      },
      "execution_count": null,
      "outputs": []
    },
    {
      "cell_type": "markdown",
      "source": [
        "#W2A10"
      ],
      "metadata": {
        "id": "tvMZPKRIDh8g"
      }
    },
    {
      "cell_type": "code",
      "source": [
        "a=input().split()\n",
        "if len(a) !=3:\n",
        "    print(\"vui long nhap lai\")\n",
        "else:\n",
        "    print(f\"hi {a[2]},{a[1]},{a[0]}\")"
      ],
      "metadata": {
        "id": "t8Kl8vXaD5mC"
      },
      "execution_count": null,
      "outputs": []
    },
    {
      "cell_type": "markdown",
      "source": [
        "#W2A11"
      ],
      "metadata": {
        "id": "jLEIOXHBDje0"
      }
    },
    {
      "cell_type": "code",
      "source": [
        "h=float(input(\"so gio \"))\n",
        "m=float(input(\"so phut\"))\n",
        "s=3600*h+60*m\n",
        "print(f\"so giay la {s}\")"
      ],
      "metadata": {
        "id": "kwgK5Ee7D6B1"
      },
      "execution_count": null,
      "outputs": []
    },
    {
      "cell_type": "markdown",
      "source": [
        "#W2A12"
      ],
      "metadata": {
        "id": "0pv9LocHDpCl"
      }
    },
    {
      "cell_type": "code",
      "source": [
        "n=int(input(\"rubik co do dai canh la \"))\n",
        "T=n**2*6\n",
        "print(f\"so mieng dan can la {T}\")"
      ],
      "metadata": {
        "id": "fT_MGw3tD6fT"
      },
      "execution_count": null,
      "outputs": []
    },
    {
      "cell_type": "markdown",
      "source": [
        "#W2A13"
      ],
      "metadata": {
        "id": "mubXKlWNDp_a"
      }
    },
    {
      "cell_type": "code",
      "source": [
        "a=int(input(\"nhap so a \"))\n",
        "b=int(input(\"nhap so b \"))\n",
        "T=(a*b)%10\n",
        "print(\"hang don vi la\", T)"
      ],
      "metadata": {
        "id": "cHLpC1KHD7NN"
      },
      "execution_count": null,
      "outputs": []
    },
    {
      "cell_type": "markdown",
      "source": [
        "#W2A14"
      ],
      "metadata": {
        "id": "vfdavOdDDq29"
      }
    },
    {
      "cell_type": "code",
      "source": [
        "a=5\n",
        "b=10\n",
        "print(f\"truoc khi hoan doi, a={a},b={b}\")\n",
        "a, b=b, a\n",
        "print(f\"sau khi hoan doi, a={a},b={b}\")\n"
      ],
      "metadata": {
        "id": "32_xcQusD7kT"
      },
      "execution_count": null,
      "outputs": []
    },
    {
      "cell_type": "markdown",
      "source": [
        "#W2A15"
      ],
      "metadata": {
        "id": "6vLDgYsQDrth"
      }
    },
    {
      "cell_type": "code",
      "source": [
        "def star_number(n):\n",
        "    \"\"\"\n",
        "    Tính số sao thứ n (star number)\n",
        "    Số sao là số hình học trung tâm đại diện cho hình lục giác có tâm\n",
        "\n",
        "    Công thức: S(n) = 6n(n - 1) + 1\n",
        "\n",
        "    Args:\n",
        "        n (int): Số nguyên dương\n",
        "\n",
        "    Returns:\n",
        "        int: Số sao thứ n\n",
        "    \"\"\"\n",
        "    if n <= 0:\n",
        "        raise ValueError(\"n phải là số nguyên dương\")\n",
        "\n",
        "    return 6 * n * (n - 1) + 1\n",
        "\n",
        "\n",
        "def main():\n",
        "\n",
        "    try:\n",
        "        n = int(input(\"Nhập số nguyên dương n: \"))\n",
        "\n",
        "        if n <= 0:\n",
        "            print(\"Vui lòng nhập số nguyên dương!\")\n",
        "            return\n",
        "\n",
        "\n",
        "        result = star_number(n)\n",
        "        print(f\"Số sao thứ {n} là: {result}\")\n",
        "\n",
        "    except ValueError:\n",
        "        print(\"Giá trị nhập vào không hợp lệ, vui lòng nhập số nguyên dương!\")\n",
        "\n",
        "\n",
        "if __name__ == \"__main__\":\n",
        "    main()\n"
      ],
      "metadata": {
        "id": "t_MzXT7-D78N"
      },
      "execution_count": null,
      "outputs": []
    },
    {
      "cell_type": "markdown",
      "source": [
        "#W2A16"
      ],
      "metadata": {
        "id": "nDZV8UidDtSn"
      }
    },
    {
      "cell_type": "code",
      "source": [
        "print(\"Spring\\nSummer\\nAutumn\\nWinter\")\n"
      ],
      "metadata": {
        "id": "7iBTIUJpD8Tj"
      },
      "execution_count": null,
      "outputs": []
    },
    {
      "cell_type": "markdown",
      "source": [
        "#W2A17"
      ],
      "metadata": {
        "id": "fwmmZKAhDuWh"
      }
    },
    {
      "cell_type": "code",
      "source": [
        "print(\"  *   \\n *** \\n*****\")"
      ],
      "metadata": {
        "id": "XqE4nIrpD9IU"
      },
      "execution_count": null,
      "outputs": []
    },
    {
      "cell_type": "markdown",
      "source": [
        "#W2A18"
      ],
      "metadata": {
        "id": "dwDCjct3DvP7"
      }
    },
    {
      "cell_type": "code",
      "source": [
        "print(\"### # #   ###   ### \\n #  #  #   #     # \\n #  #   #  #     # \\n #  #  #   #     # \\n #  # #    #     # \")\n"
      ],
      "metadata": {
        "id": "2FZIuYCvD9lv"
      },
      "execution_count": null,
      "outputs": []
    },
    {
      "cell_type": "markdown",
      "source": [
        "#W2A19"
      ],
      "metadata": {
        "id": "Jhvhp2t8DwGo"
      }
    },
    {
      "cell_type": "code",
      "source": [
        "print(\"MONDAY\\nTUESDAY\\nWednesday\\nThursday\\nFriday\\nSaturday\\nSunday\")"
      ],
      "metadata": {
        "id": "oC0zrfvOD98X"
      },
      "execution_count": null,
      "outputs": []
    },
    {
      "cell_type": "markdown",
      "source": [
        "#W2A20"
      ],
      "metadata": {
        "id": "zD5bZnk8Dxry"
      }
    },
    {
      "cell_type": "code",
      "source": [
        "print(\"January\\nFebruary\\nMarch\\nApril\\nMay\\nJune\\nJuly\\nAugust\\nSeptember\\nOctober\\nNovember\\nDecember\")"
      ],
      "metadata": {
        "id": "K-ywrZHJD-dB"
      },
      "execution_count": null,
      "outputs": []
    },
    {
      "cell_type": "markdown",
      "source": [
        "#W2A21\n"
      ],
      "metadata": {
        "id": "XYzIDG-mDy3s"
      }
    },
    {
      "cell_type": "code",
      "source": [
        "for i in range(10):\n",
        "    print(\"hello, world\")"
      ],
      "metadata": {
        "id": "bK4oQ0swD_Og"
      },
      "execution_count": null,
      "outputs": []
    },
    {
      "cell_type": "markdown",
      "source": [],
      "metadata": {
        "id": "6M83p4IYDYB2"
      }
    },
    {
      "cell_type": "markdown",
      "source": [],
      "metadata": {
        "id": "SLfbkLlvWSsa"
      }
    }
  ]
}